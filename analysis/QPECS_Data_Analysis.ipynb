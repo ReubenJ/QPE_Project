{
 "cells": [
  {
   "cell_type": "code",
   "execution_count": 1,
   "metadata": {},
   "outputs": [],
   "source": [
    "import pandas as pd\n",
    "import numpy as np\n",
    "from pyDOE2 import *"
   ]
  },
  {
   "cell_type": "code",
   "execution_count": 2,
   "metadata": {},
   "outputs": [
    {
     "name": "stdout",
     "output_type": "stream",
     "text": [
      "Signs for a, b, c, d, ab, ac, bc\n",
      "[[-1. -1. -1. -1.  1.  1.  1.]\n",
      " [ 1. -1. -1.  1. -1. -1.  1.]\n",
      " [-1.  1. -1.  1. -1.  1. -1.]\n",
      " [ 1.  1. -1. -1.  1. -1. -1.]\n",
      " [-1. -1.  1.  1.  1. -1. -1.]\n",
      " [ 1. -1.  1. -1. -1.  1. -1.]\n",
      " [-1.  1.  1. -1. -1. -1.  1.]\n",
      " [ 1.  1.  1.  1.  1.  1.  1.]]\n",
      "Signs for just a, b, c, and d\n"
     ]
    },
    {
     "data": {
      "text/plain": [
       "array([[-1., -1., -1., -1.],\n",
       "       [ 1., -1., -1.,  1.],\n",
       "       [-1.,  1., -1.,  1.],\n",
       "       [ 1.,  1., -1., -1.],\n",
       "       [-1., -1.,  1.,  1.],\n",
       "       [ 1., -1.,  1., -1.],\n",
       "       [-1.,  1.,  1., -1.],\n",
       "       [ 1.,  1.,  1.,  1.]])"
      ]
     },
     "execution_count": 2,
     "metadata": {},
     "output_type": "execute_result"
    }
   ],
   "source": [
    "sign = fracfact('a b c abc ab ac bc')\n",
    "print(\"Signs for a, b, c, d, ab, ac, bc\")\n",
    "print(sign)\n",
    "print(\"Signs for just a, b, c, and d\")\n",
    "grid = sign[:, :4]\n",
    "grid"
   ]
  },
  {
   "cell_type": "code",
   "execution_count": 3,
   "metadata": {},
   "outputs": [
    {
     "data": {
      "text/plain": [
       "[('lazy', 'Cifar10', '1 core', '1'),\n",
       " ('predictive', 'Cifar10', '1 core', '4'),\n",
       " ('lazy', 'FashionMNISTCNN', '1 core', '4'),\n",
       " ('predictive', 'FashionMNISTCNN', '1 core', '1'),\n",
       " ('lazy', 'Cifar10', '4 cores', '4'),\n",
       " ('predictive', 'Cifar10', '4 cores', '1'),\n",
       " ('lazy', 'FashionMNISTCNN', '4 cores', '1'),\n",
       " ('predictive', 'FashionMNISTCNN', '4 cores', '4')]"
      ]
     },
     "execution_count": 3,
     "metadata": {},
     "output_type": "execute_result"
    }
   ],
   "source": [
    "factor_names = ['approach', 'model', 'cpu', 'parallelism']\n",
    "repetitions = 5\n",
    "\n",
    "# Guessing, make sure to fix these values later\n",
    "levels = {\n",
    "    factor_names[0]: {\n",
    "        'low': 'lazy',\n",
    "        'high': 'predictive',\n",
    "    },\n",
    "    factor_names[1]: {\n",
    "        'low': 'Cifar10',\n",
    "        'high': 'FashionMNISTCNN',\n",
    "    },\n",
    "    factor_names[2]: {\n",
    "        'low': '1 core',\n",
    "        'high': '4 cores',\n",
    "    },\n",
    "    factor_names[3]: {\n",
    "        'low': '1',\n",
    "        'high': '4',\n",
    "    }\n",
    "}\n",
    "\n",
    "runs_levels = [tuple([levels[fac]['low'] if r[i] == -1 else levels[fac]['high'] for i, fac in enumerate(factor_names)]) for r in grid]\n",
    "\n",
    "runs_levels"
   ]
  },
  {
   "cell_type": "code",
   "execution_count": 4,
   "metadata": {},
   "outputs": [
    {
     "data": {
      "text/plain": [
       "MultiIndex([(      'lazy',         'Cifar10',  '1 core', '1'),\n",
       "            ('predictive',         'Cifar10',  '1 core', '4'),\n",
       "            (      'lazy', 'FashionMNISTCNN',  '1 core', '4'),\n",
       "            ('predictive', 'FashionMNISTCNN',  '1 core', '1'),\n",
       "            (      'lazy',         'Cifar10', '4 cores', '4'),\n",
       "            ('predictive',         'Cifar10', '4 cores', '1'),\n",
       "            (      'lazy', 'FashionMNISTCNN', '4 cores', '1'),\n",
       "            ('predictive', 'FashionMNISTCNN', '4 cores', '4')],\n",
       "           names=['approach', 'model', 'cpu', 'parallelism'])"
      ]
     },
     "execution_count": 4,
     "metadata": {},
     "output_type": "execute_result"
    }
   ],
   "source": [
    "arrays = [\n",
    "    [x[0] for x in runs_levels],\n",
    "    [x[1] for x in runs_levels],\n",
    "    [x[2] for x in runs_levels],\n",
    "    [x[3] for x in runs_levels],\n",
    "]\n",
    "tuples = list(zip(*arrays))\n",
    "index = pd.MultiIndex.from_tuples(tuples, names=factor_names)\n",
    "index"
   ]
  },
  {
   "cell_type": "code",
   "execution_count": 5,
   "metadata": {},
   "outputs": [
    {
     "data": {
      "text/html": [
       "<div>\n",
       "<style scoped>\n",
       "    .dataframe tbody tr th:only-of-type {\n",
       "        vertical-align: middle;\n",
       "    }\n",
       "\n",
       "    .dataframe tbody tr th {\n",
       "        vertical-align: top;\n",
       "    }\n",
       "\n",
       "    .dataframe thead th {\n",
       "        text-align: right;\n",
       "    }\n",
       "</style>\n",
       "<table border=\"1\" class=\"dataframe\">\n",
       "  <thead>\n",
       "    <tr style=\"text-align: right;\">\n",
       "      <th></th>\n",
       "      <th></th>\n",
       "      <th></th>\n",
       "      <th></th>\n",
       "      <th>0</th>\n",
       "      <th>1</th>\n",
       "      <th>2</th>\n",
       "      <th>3</th>\n",
       "      <th>4</th>\n",
       "    </tr>\n",
       "    <tr>\n",
       "      <th>approach</th>\n",
       "      <th>model</th>\n",
       "      <th>cpu</th>\n",
       "      <th>parallelism</th>\n",
       "      <th></th>\n",
       "      <th></th>\n",
       "      <th></th>\n",
       "      <th></th>\n",
       "      <th></th>\n",
       "    </tr>\n",
       "  </thead>\n",
       "  <tbody>\n",
       "    <tr>\n",
       "      <th>lazy</th>\n",
       "      <th>Cifar10</th>\n",
       "      <th>1 core</th>\n",
       "      <th>1</th>\n",
       "      <td>28.113781</td>\n",
       "      <td>51.370671</td>\n",
       "      <td>327.524931</td>\n",
       "      <td>445.910746</td>\n",
       "      <td>833.331273</td>\n",
       "    </tr>\n",
       "    <tr>\n",
       "      <th>predictive</th>\n",
       "      <th>Cifar10</th>\n",
       "      <th>1 core</th>\n",
       "      <th>4</th>\n",
       "      <td>622.754485</td>\n",
       "      <td>249.580581</td>\n",
       "      <td>768.955040</td>\n",
       "      <td>525.829807</td>\n",
       "      <td>407.598666</td>\n",
       "    </tr>\n",
       "    <tr>\n",
       "      <th>lazy</th>\n",
       "      <th>FashionMNISTCNN</th>\n",
       "      <th>1 core</th>\n",
       "      <th>4</th>\n",
       "      <td>388.341814</td>\n",
       "      <td>423.380094</td>\n",
       "      <td>799.410214</td>\n",
       "      <td>82.015917</td>\n",
       "      <td>9.416894</td>\n",
       "    </tr>\n",
       "    <tr>\n",
       "      <th>predictive</th>\n",
       "      <th>FashionMNISTCNN</th>\n",
       "      <th>1 core</th>\n",
       "      <th>1</th>\n",
       "      <td>1128.294710</td>\n",
       "      <td>141.430988</td>\n",
       "      <td>114.584057</td>\n",
       "      <td>1307.411514</td>\n",
       "      <td>357.965533</td>\n",
       "    </tr>\n",
       "    <tr>\n",
       "      <th>lazy</th>\n",
       "      <th>Cifar10</th>\n",
       "      <th>4 cores</th>\n",
       "      <th>4</th>\n",
       "      <td>861.384568</td>\n",
       "      <td>469.708888</td>\n",
       "      <td>512.556791</td>\n",
       "      <td>907.393045</td>\n",
       "      <td>547.133312</td>\n",
       "    </tr>\n",
       "    <tr>\n",
       "      <th>predictive</th>\n",
       "      <th>Cifar10</th>\n",
       "      <th>4 cores</th>\n",
       "      <th>1</th>\n",
       "      <td>181.673002</td>\n",
       "      <td>176.288688</td>\n",
       "      <td>266.485645</td>\n",
       "      <td>950.669089</td>\n",
       "      <td>578.529232</td>\n",
       "    </tr>\n",
       "    <tr>\n",
       "      <th>lazy</th>\n",
       "      <th>FashionMNISTCNN</th>\n",
       "      <th>4 cores</th>\n",
       "      <th>1</th>\n",
       "      <td>1239.203677</td>\n",
       "      <td>497.125715</td>\n",
       "      <td>693.119009</td>\n",
       "      <td>651.177075</td>\n",
       "      <td>630.251712</td>\n",
       "    </tr>\n",
       "    <tr>\n",
       "      <th>predictive</th>\n",
       "      <th>FashionMNISTCNN</th>\n",
       "      <th>4 cores</th>\n",
       "      <th>4</th>\n",
       "      <td>166.679302</td>\n",
       "      <td>244.732892</td>\n",
       "      <td>259.732532</td>\n",
       "      <td>44.258924</td>\n",
       "      <td>670.217773</td>\n",
       "    </tr>\n",
       "  </tbody>\n",
       "</table>\n",
       "</div>"
      ],
      "text/plain": [
       "                                                          0           1  \\\n",
       "approach   model           cpu     parallelism                            \n",
       "lazy       Cifar10         1 core  1              28.113781   51.370671   \n",
       "predictive Cifar10         1 core  4             622.754485  249.580581   \n",
       "lazy       FashionMNISTCNN 1 core  4             388.341814  423.380094   \n",
       "predictive FashionMNISTCNN 1 core  1            1128.294710  141.430988   \n",
       "lazy       Cifar10         4 cores 4             861.384568  469.708888   \n",
       "predictive Cifar10         4 cores 1             181.673002  176.288688   \n",
       "lazy       FashionMNISTCNN 4 cores 1            1239.203677  497.125715   \n",
       "predictive FashionMNISTCNN 4 cores 4             166.679302  244.732892   \n",
       "\n",
       "                                                         2            3  \\\n",
       "approach   model           cpu     parallelism                            \n",
       "lazy       Cifar10         1 core  1            327.524931   445.910746   \n",
       "predictive Cifar10         1 core  4            768.955040   525.829807   \n",
       "lazy       FashionMNISTCNN 1 core  4            799.410214    82.015917   \n",
       "predictive FashionMNISTCNN 1 core  1            114.584057  1307.411514   \n",
       "lazy       Cifar10         4 cores 4            512.556791   907.393045   \n",
       "predictive Cifar10         4 cores 1            266.485645   950.669089   \n",
       "lazy       FashionMNISTCNN 4 cores 1            693.119009   651.177075   \n",
       "predictive FashionMNISTCNN 4 cores 4            259.732532    44.258924   \n",
       "\n",
       "                                                         4  \n",
       "approach   model           cpu     parallelism              \n",
       "lazy       Cifar10         1 core  1            833.331273  \n",
       "predictive Cifar10         1 core  4            407.598666  \n",
       "lazy       FashionMNISTCNN 1 core  4              9.416894  \n",
       "predictive FashionMNISTCNN 1 core  1            357.965533  \n",
       "lazy       Cifar10         4 cores 4            547.133312  \n",
       "predictive Cifar10         4 cores 1            578.529232  \n",
       "lazy       FashionMNISTCNN 4 cores 1            630.251712  \n",
       "predictive FashionMNISTCNN 4 cores 4            670.217773  "
      ]
     },
     "execution_count": 5,
     "metadata": {},
     "output_type": "execute_result"
    }
   ],
   "source": [
    "dim_sizes = {'runs': len(runs_levels), 'repetitions': repetitions}\n",
    "df = pd.DataFrame(\n",
    "    np.abs(np.random.randn(dim_sizes['runs'], dim_sizes['repetitions']))*500,\n",
    "#     np.zeros((dim_sizes['runs'], dim_sizes['repetitions']))+1,\n",
    "    index=index\n",
    ")\n",
    "df"
   ]
  },
  {
   "cell_type": "code",
   "execution_count": 6,
   "metadata": {},
   "outputs": [
    {
     "data": {
      "text/plain": [
       "(array([0., 0., 0., 0., 0., 0., 0., 0.]),\n",
       " array([[ 1., -1., -1., -1., -1.,  1.,  1.,  1.],\n",
       "        [ 1.,  1., -1., -1.,  1., -1., -1.,  1.],\n",
       "        [ 1., -1.,  1., -1.,  1., -1.,  1., -1.],\n",
       "        [ 1.,  1.,  1., -1., -1.,  1., -1., -1.],\n",
       "        [ 1., -1., -1.,  1.,  1.,  1., -1., -1.],\n",
       "        [ 1.,  1., -1.,  1., -1., -1.,  1., -1.],\n",
       "        [ 1., -1.,  1.,  1., -1., -1., -1.,  1.],\n",
       "        [ 1.,  1.,  1.,  1.,  1.,  1.,  1.,  1.]]))"
      ]
     },
     "execution_count": 6,
     "metadata": {},
     "output_type": "execute_result"
    }
   ],
   "source": [
    "q = np.zeros((2**(4-1)))  # +1 for a spot for q0\n",
    "# now add column of 1's for the 'I' column\n",
    "sign_table = np.array([ np.concatenate((np.array([1.]), x)) for x in sign])\n",
    "q, sign_table"
   ]
  },
  {
   "cell_type": "markdown",
   "metadata": {},
   "source": [
    "See box 18.1 for the following steps\n",
    "\n",
    "$$q_j = \\frac{1}{2^{k-1}} \\sum_{i=1}^{k-1}S_{ij}\\bar{y}_i$$\n",
    "\n",
    "Where $k=4$ and $S_{ij}$ is the $(i,j)$ entry in the `sign_table`."
   ]
  },
  {
   "cell_type": "code",
   "execution_count": 7,
   "metadata": {},
   "outputs": [
    {
     "data": {
      "text/plain": [
       "array([ 489.03856469,  -30.85494167,    3.39895255,   38.37747887,\n",
       "        -40.98448777,  -18.05175306, -142.63439398,  -21.16513506])"
      ]
     },
     "execution_count": 7,
     "metadata": {},
     "output_type": "execute_result"
    }
   ],
   "source": [
    "for j in range(len(q)):\n",
    "    q[j] = (1/(2**(4-1))) * np.sum([sign_table[i][j] * df.iloc[i].mean() for i in range(2**(4-1))])\n",
    "q"
   ]
  },
  {
   "cell_type": "markdown",
   "metadata": {},
   "source": [
    "To calculate the sum of squares for each effect (as well as SS0/q0)\n",
    "\n",
    "$$SSj = 2^{k-1}rq_j^2$$ for $j=0,1, 2,\\dots,2^{k-1}-1$"
   ]
  },
  {
   "cell_type": "code",
   "execution_count": 8,
   "metadata": {},
   "outputs": [
    {
     "data": {
      "text/plain": [
       "array([9.56634871e+06, 3.80810970e+04, 4.62115137e+02, 5.89132354e+04,\n",
       "       6.71891295e+04, 1.30346315e+04, 8.13782814e+05, 1.79185177e+04])"
      ]
     },
     "execution_count": 8,
     "metadata": {},
     "output_type": "execute_result"
    }
   ],
   "source": [
    "SS = np.zeros((2**(4-1)))\n",
    "for j in range(len(SS)):\n",
    "    SS[j] = (2**(4-1)) * repetitions * (q[j] ** 2)\n",
    "SS"
   ]
  },
  {
   "cell_type": "markdown",
   "metadata": {},
   "source": [
    "Now for $SSY$, $SST$, and $SSE$\n",
    "$$SSY=\\sum_{i=1}^{2^{k-1}}\\sum_{j=1}^{r}y_{ij}^2$$\n",
    "$$SST = SSY - SS0$$\n",
    "$$SSE = SST - \\sum_{j=1}^{2^{k-1}-1}SSj$$"
   ]
  },
  {
   "cell_type": "code",
   "execution_count": 9,
   "metadata": {},
   "outputs": [
    {
     "data": {
      "text/plain": [
       "(14019912.684396196, 4453563.974179788, 3444182.433995825)"
      ]
     },
     "execution_count": 9,
     "metadata": {},
     "output_type": "execute_result"
    }
   ],
   "source": [
    "SSY = np.sum([np.sum([df.iloc[i, j]**2 for j in range(repetitions)]) for i in range(2**(4-1))])\n",
    "SST = SSY - SS[0]\n",
    "SSE = SST - np.sum([SS[j] for j in range(1, 2**(4-1))])\n",
    "SSY, SST, SSE"
   ]
  },
  {
   "cell_type": "markdown",
   "metadata": {},
   "source": [
    "% of `y`'s variation explained by `j`th effect\n",
    "$$(SSj/SST) \\cdot 100\\%$$"
   ]
  },
  {
   "cell_type": "code",
   "execution_count": 10,
   "metadata": {},
   "outputs": [
    {
     "data": {
      "text/plain": [
       "[0.86, 0.01, 1.32, 1.51, 0.29, 18.27, 0.4]"
      ]
     },
     "execution_count": 10,
     "metadata": {},
     "output_type": "execute_result"
    }
   ],
   "source": [
    "var_expl = np.zeros((2**(4-1)))\n",
    "for j in range(2**(4-1)):\n",
    "    var_expl[j] = (SS[j] / SST) * 100\n",
    "[round(x, 2) for x in var_expl[1:]]  # just to pretty-print"
   ]
  },
  {
   "cell_type": "markdown",
   "metadata": {},
   "source": [
    "Standard deviation of errors:\n",
    "$$s_e = \\sqrt{\\frac{SSE}{2^{k-1}(r-1)}}$$"
   ]
  },
  {
   "cell_type": "code",
   "execution_count": 11,
   "metadata": {},
   "outputs": [
    {
     "data": {
      "text/plain": [
       "328.0711829197583"
      ]
     },
     "execution_count": 11,
     "metadata": {},
     "output_type": "execute_result"
    }
   ],
   "source": [
    "s_e = np.sqrt(SSE/(2**(4-1)*(repetitions-1)))\n",
    "s_e"
   ]
  },
  {
   "cell_type": "code",
   "execution_count": 12,
   "metadata": {},
   "outputs": [
    {
     "data": {
      "text/plain": [
       "array([51.87260863, 51.87260863, 51.87260863, 51.87260863, 51.87260863,\n",
       "       51.87260863, 51.87260863, 51.87260863])"
      ]
     },
     "execution_count": 12,
     "metadata": {},
     "output_type": "execute_result"
    }
   ],
   "source": [
    "s_qj = np.array([s_e / np.sqrt(2**(4-1)*repetitions)] * (2**(4-1)))\n",
    "s_qj"
   ]
  },
  {
   "cell_type": "markdown",
   "metadata": {},
   "source": [
    "## Confidence Intervals\n",
    "To find the confidence interval for effect $i$ the following equation is used:\n",
    "$$q_i \\pm t_{[1-\\alpha/2; 2^{k-1}(r-1)]}s_{qi}$$"
   ]
  },
  {
   "cell_type": "code",
   "execution_count": 13,
   "metadata": {},
   "outputs": [],
   "source": [
    "from scipy import stats"
   ]
  },
  {
   "cell_type": "code",
   "execution_count": 14,
   "metadata": {},
   "outputs": [
    {
     "data": {
      "text/plain": [
       "[(-30.85, -30.85),\n",
       " (-48.43, 55.22),\n",
       " (-13.5, 90.25),\n",
       " (-40.98, -40.98),\n",
       " (-18.05, -18.05),\n",
       " (-142.63, -142.63),\n",
       " (-21.17, -21.17)]"
      ]
     },
     "execution_count": 14,
     "metadata": {},
     "output_type": "execute_result"
    }
   ],
   "source": [
    "conf_interval = np.zeros_like((q))[1:]  # remove q0\n",
    "dof = 2**(4-1)*(repetitions-1)\n",
    "for i in range(len(conf_interval)):\n",
    "    interval = stats.t.cdf(q[i+1], dof) * s_qj[i+1]\n",
    "    conf_interval[i] = interval\n",
    "[(round(q[i+1] - interval, 2), round(q[i+1] + interval, 2)) for i, interval in enumerate(conf_interval)]"
   ]
  },
  {
   "cell_type": "markdown",
   "metadata": {},
   "source": [
    "## ANOVA"
   ]
  },
  {
   "cell_type": "markdown",
   "metadata": {},
   "source": [
    "See table 22.5"
   ]
  },
  {
   "cell_type": "code",
   "execution_count": 15,
   "metadata": {},
   "outputs": [
    {
     "name": "stdout",
     "output_type": "stream",
     "text": [
      "MSE = 107630.7, dof for error = 32\n"
     ]
    },
    {
     "data": {
      "text/html": [
       "<div>\n",
       "<style scoped>\n",
       "    .dataframe tbody tr th:only-of-type {\n",
       "        vertical-align: middle;\n",
       "    }\n",
       "\n",
       "    .dataframe tbody tr th {\n",
       "        vertical-align: top;\n",
       "    }\n",
       "\n",
       "    .dataframe thead th {\n",
       "        text-align: right;\n",
       "    }\n",
       "</style>\n",
       "<table border=\"1\" class=\"dataframe\">\n",
       "  <thead>\n",
       "    <tr style=\"text-align: right;\">\n",
       "      <th></th>\n",
       "      <th>Mean Square</th>\n",
       "      <th>F Computed</th>\n",
       "      <th>F Table</th>\n",
       "    </tr>\n",
       "  </thead>\n",
       "  <tbody>\n",
       "    <tr>\n",
       "      <th>0</th>\n",
       "      <td>38081.097017</td>\n",
       "      <td>0.353813</td>\n",
       "      <td>0.556146</td>\n",
       "    </tr>\n",
       "    <tr>\n",
       "      <th>1</th>\n",
       "      <td>462.115137</td>\n",
       "      <td>0.004294</td>\n",
       "      <td>0.948164</td>\n",
       "    </tr>\n",
       "    <tr>\n",
       "      <th>2</th>\n",
       "      <td>58913.235390</td>\n",
       "      <td>0.547365</td>\n",
       "      <td>0.464790</td>\n",
       "    </tr>\n",
       "    <tr>\n",
       "      <th>3</th>\n",
       "      <td>67189.129524</td>\n",
       "      <td>0.624256</td>\n",
       "      <td>0.435286</td>\n",
       "    </tr>\n",
       "    <tr>\n",
       "      <th>4</th>\n",
       "      <td>13034.631541</td>\n",
       "      <td>0.121105</td>\n",
       "      <td>0.730118</td>\n",
       "    </tr>\n",
       "    <tr>\n",
       "      <th>5</th>\n",
       "      <td>813782.813882</td>\n",
       "      <td>7.560880</td>\n",
       "      <td>0.009728</td>\n",
       "    </tr>\n",
       "    <tr>\n",
       "      <th>6</th>\n",
       "      <td>17918.517692</td>\n",
       "      <td>0.166481</td>\n",
       "      <td>0.685975</td>\n",
       "    </tr>\n",
       "  </tbody>\n",
       "</table>\n",
       "</div>"
      ],
      "text/plain": [
       "     Mean Square  F Computed   F Table\n",
       "0   38081.097017    0.353813  0.556146\n",
       "1     462.115137    0.004294  0.948164\n",
       "2   58913.235390    0.547365  0.464790\n",
       "3   67189.129524    0.624256  0.435286\n",
       "4   13034.631541    0.121105  0.730118\n",
       "5  813782.813882    7.560880  0.009728\n",
       "6   17918.517692    0.166481  0.685975"
      ]
     },
     "execution_count": 15,
     "metadata": {},
     "output_type": "execute_result"
    }
   ],
   "source": [
    "MSE = s_e**2\n",
    "# all degrees of freedoms of factors are 1 (since all levels are just 2), so MS is the same as SS\n",
    "# just have to slice [1:] to get rid of the SS0 term\n",
    "MS = np.copy(SS[1:])\n",
    "\n",
    "F_vals = MS/MSE\n",
    "\n",
    "p_vals = np.zeros_like(F_vals)\n",
    "error_degree_of_freedom = 2**(4-1)*(repetitions-1)\n",
    "\n",
    "for i in range(len(F_vals)):   \n",
    "    p_vals[i] = 1-stats.f.cdf(F_vals[i], 1, error_degree_of_freedom)\n",
    "\n",
    "print(f\"MSE = {round(MSE, 2)}, dof for error = {error_degree_of_freedom}\")\n",
    "pd.DataFrame(np.stack((MS, F_vals, p_vals)).T, columns=[\"Mean Square\", \"F Computed\", \"F Table\"])"
   ]
  }
 ],
 "metadata": {
  "kernelspec": {
   "display_name": "Python 3",
   "language": "python",
   "name": "python3"
  },
  "language_info": {
   "codemirror_mode": {
    "name": "ipython",
    "version": 3
   },
   "file_extension": ".py",
   "mimetype": "text/x-python",
   "name": "python",
   "nbconvert_exporter": "python",
   "pygments_lexer": "ipython3",
   "version": "3.6.9"
  }
 },
 "nbformat": 4,
 "nbformat_minor": 4
}
