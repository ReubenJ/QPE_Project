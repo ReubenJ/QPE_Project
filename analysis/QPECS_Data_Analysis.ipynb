{
 "cells": [
  {
   "cell_type": "code",
   "execution_count": 1,
   "metadata": {
    "execution": {
     "iopub.execute_input": "2021-10-25T21:01:08.192933Z",
     "iopub.status.busy": "2021-10-25T21:01:08.192108Z",
     "iopub.status.idle": "2021-10-25T21:01:08.699218Z",
     "shell.execute_reply": "2021-10-25T21:01:08.698813Z"
    }
   },
   "outputs": [],
   "source": [
    "import pandas as pd\n",
    "import numpy as np\n",
    "from pyDOE2 import *\n",
    "import csv"
   ]
  },
  {
   "cell_type": "code",
   "execution_count": 2,
   "metadata": {
    "execution": {
     "iopub.execute_input": "2021-10-25T21:01:08.706894Z",
     "iopub.status.busy": "2021-10-25T21:01:08.702621Z",
     "iopub.status.idle": "2021-10-25T21:01:08.709832Z",
     "shell.execute_reply": "2021-10-25T21:01:08.709542Z"
    }
   },
   "outputs": [
    {
     "name": "stdout",
     "output_type": "stream",
     "text": [
      "Signs for a, b, c, d, ab, ac, bc\n",
      "[[-1. -1. -1. -1.  1.  1.  1.]\n",
      " [ 1. -1. -1.  1. -1. -1.  1.]\n",
      " [-1.  1. -1.  1. -1.  1. -1.]\n",
      " [ 1.  1. -1. -1.  1. -1. -1.]\n",
      " [-1. -1.  1.  1.  1. -1. -1.]\n",
      " [ 1. -1.  1. -1. -1.  1. -1.]\n",
      " [-1.  1.  1. -1. -1. -1.  1.]\n",
      " [ 1.  1.  1.  1.  1.  1.  1.]]\n",
      "Signs for just a, b, c, and d\n"
     ]
    },
    {
     "data": {
      "text/plain": [
       "array([[-1., -1., -1., -1.],\n",
       "       [ 1., -1., -1.,  1.],\n",
       "       [-1.,  1., -1.,  1.],\n",
       "       [ 1.,  1., -1., -1.],\n",
       "       [-1., -1.,  1.,  1.],\n",
       "       [ 1., -1.,  1., -1.],\n",
       "       [-1.,  1.,  1., -1.],\n",
       "       [ 1.,  1.,  1.,  1.]])"
      ]
     },
     "execution_count": 1,
     "metadata": {},
     "output_type": "execute_result"
    }
   ],
   "source": [
    "sign = fracfact('a b c abc ab ac bc')\n",
    "print(\"Signs for a, b, c, d, ab, ac, bc\")\n",
    "print(sign)\n",
    "print(\"Signs for just a, b, c, and d\")\n",
    "grid = sign[:, :4]\n",
    "grid"
   ]
  },
  {
   "cell_type": "code",
   "execution_count": 3,
   "metadata": {
    "execution": {
     "iopub.execute_input": "2021-10-25T21:01:08.715126Z",
     "iopub.status.busy": "2021-10-25T21:01:08.714643Z",
     "iopub.status.idle": "2021-10-25T21:01:08.717290Z",
     "shell.execute_reply": "2021-10-25T21:01:08.716934Z"
    }
   },
   "outputs": [
    {
     "data": {
      "text/plain": [
       "[('lazy', 'Cifar10', '1 core', '1'),\n",
       " ('predictive', 'Cifar10', '1 core', '4'),\n",
       " ('lazy', 'FashionMNISTCNN', '1 core', '4'),\n",
       " ('predictive', 'FashionMNISTCNN', '1 core', '1'),\n",
       " ('lazy', 'Cifar10', '4 cores', '4'),\n",
       " ('predictive', 'Cifar10', '4 cores', '1'),\n",
       " ('lazy', 'FashionMNISTCNN', '4 cores', '1'),\n",
       " ('predictive', 'FashionMNISTCNN', '4 cores', '4')]"
      ]
     },
     "execution_count": 1,
     "metadata": {},
     "output_type": "execute_result"
    }
   ],
   "source": [
    "factor_names = ['Approach', 'Model', 'CPU', 'Parallelism']\n",
    "interaction_names = [f'{factor_names[0]} x {factor_names[1]}', f'{factor_names[0]} x {factor_names[2]}', f'{factor_names[1]} x {factor_names[2]}']\n",
    "all_names = factor_names + interaction_names\n",
    "repetitions = 5\n",
    "\n",
    "# Guessing, make sure to fix these values later\n",
    "levels = {\n",
    "    factor_names[0]: {\n",
    "        'low': 'lazy',\n",
    "        'high': 'predictive',\n",
    "    },\n",
    "    factor_names[1]: {\n",
    "        'low': 'Cifar10',\n",
    "        'high': 'FashionMNISTCNN',\n",
    "    },\n",
    "    factor_names[2]: {\n",
    "        'low': '1 core',\n",
    "        'high': '4 cores',\n",
    "    },\n",
    "    factor_names[3]: {\n",
    "        'low': '1',\n",
    "        'high': '4',\n",
    "    }\n",
    "}\n",
    "\n",
    "runs_levels = [tuple([levels[fac]['low'] if r[i] == -1 else levels[fac]['high'] for i, fac in enumerate(factor_names)]) for r in grid]\n",
    "\n",
    "runs_levels"
   ]
  },
  {
   "cell_type": "code",
   "execution_count": 4,
   "metadata": {
    "execution": {
     "iopub.execute_input": "2021-10-25T21:01:08.722064Z",
     "iopub.status.busy": "2021-10-25T21:01:08.721459Z",
     "iopub.status.idle": "2021-10-25T21:01:08.724481Z",
     "shell.execute_reply": "2021-10-25T21:01:08.724801Z"
    }
   },
   "outputs": [
    {
     "name": "stdout",
     "output_type": "stream",
     "text": [
      "[1, '-', '-', '-', '-']\n",
      "[2, '+', '-', '-', '+']\n",
      "[3, '-', '+', '-', '+']\n",
      "[4, '+', '+', '-', '-']\n",
      "[5, '-', '-', '+', '+']\n",
      "[6, '+', '-', '+', '-']\n",
      "[7, '-', '+', '+', '-']\n",
      "[8, '+', '+', '+', '+']\n"
     ]
    }
   ],
   "source": [
    "with open('sign-table.csv', 'w', newline='') as csvfile:\n",
    "    sign_table_writer = csv.writer(csvfile, delimiter=',')\n",
    "    sign_table_writer.writerow([''] + [f for f in factor_names])\n",
    "    for i in range(len(grid)):\n",
    "        print([i+1] + [\"+\" if grid[i][j] == 1 else \"-\" for j in range(len(grid[i]))])\n",
    "        sign_table_writer.writerow([i+1] + [\"+\" if grid[i][j] == 1 else \"-\" for j in range(len(grid[i]))])"
   ]
  },
  {
   "cell_type": "code",
   "execution_count": 5,
   "metadata": {
    "execution": {
     "iopub.execute_input": "2021-10-25T21:01:08.731746Z",
     "iopub.status.busy": "2021-10-25T21:01:08.731262Z",
     "iopub.status.idle": "2021-10-25T21:01:08.733646Z",
     "shell.execute_reply": "2021-10-25T21:01:08.733356Z"
    }
   },
   "outputs": [
    {
     "data": {
      "text/plain": [
       "MultiIndex([(      'lazy',         'Cifar10',  '1 core', '1'),\n",
       "            ('predictive',         'Cifar10',  '1 core', '4'),\n",
       "            (      'lazy', 'FashionMNISTCNN',  '1 core', '4'),\n",
       "            ('predictive', 'FashionMNISTCNN',  '1 core', '1'),\n",
       "            (      'lazy',         'Cifar10', '4 cores', '4'),\n",
       "            ('predictive',         'Cifar10', '4 cores', '1'),\n",
       "            (      'lazy', 'FashionMNISTCNN', '4 cores', '1'),\n",
       "            ('predictive', 'FashionMNISTCNN', '4 cores', '4')],\n",
       "           names=['Approach', 'Model', 'CPU', 'Parallelism'])"
      ]
     },
     "execution_count": 1,
     "metadata": {},
     "output_type": "execute_result"
    }
   ],
   "source": [
    "arrays = [\n",
    "    [x[0] for x in runs_levels],\n",
    "    [x[1] for x in runs_levels],\n",
    "    [x[2] for x in runs_levels],\n",
    "    [x[3] for x in runs_levels],\n",
    "]\n",
    "tuples = list(zip(*arrays))\n",
    "index = pd.MultiIndex.from_tuples(tuples, names=factor_names)\n",
    "index"
   ]
  },
  {
   "cell_type": "code",
   "execution_count": 6,
   "metadata": {
    "execution": {
     "iopub.execute_input": "2021-10-25T21:01:08.745279Z",
     "iopub.status.busy": "2021-10-25T21:01:08.741786Z",
     "iopub.status.idle": "2021-10-25T21:01:08.747261Z",
     "shell.execute_reply": "2021-10-25T21:01:08.747548Z"
    }
   },
   "outputs": [
    {
     "data": {
      "text/html": [
       "<div>\n",
       "<style scoped>\n",
       "    .dataframe tbody tr th:only-of-type {\n",
       "        vertical-align: middle;\n",
       "    }\n",
       "\n",
       "    .dataframe tbody tr th {\n",
       "        vertical-align: top;\n",
       "    }\n",
       "\n",
       "    .dataframe thead th {\n",
       "        text-align: right;\n",
       "    }\n",
       "</style>\n",
       "<table border=\"1\" class=\"dataframe\">\n",
       "  <thead>\n",
       "    <tr style=\"text-align: right;\">\n",
       "      <th></th>\n",
       "      <th></th>\n",
       "      <th></th>\n",
       "      <th></th>\n",
       "      <th>0</th>\n",
       "      <th>1</th>\n",
       "      <th>2</th>\n",
       "      <th>3</th>\n",
       "      <th>4</th>\n",
       "    </tr>\n",
       "    <tr>\n",
       "      <th>Approach</th>\n",
       "      <th>Model</th>\n",
       "      <th>CPU</th>\n",
       "      <th>Parallelism</th>\n",
       "      <th></th>\n",
       "      <th></th>\n",
       "      <th></th>\n",
       "      <th></th>\n",
       "      <th></th>\n",
       "    </tr>\n",
       "  </thead>\n",
       "  <tbody>\n",
       "    <tr>\n",
       "      <th>lazy</th>\n",
       "      <th>Cifar10</th>\n",
       "      <th>1 core</th>\n",
       "      <th>1</th>\n",
       "      <td>4.942295</td>\n",
       "      <td>6.070852</td>\n",
       "      <td>6.071118</td>\n",
       "      <td>5.550686</td>\n",
       "      <td>6.100229</td>\n",
       "    </tr>\n",
       "    <tr>\n",
       "      <th>predictive</th>\n",
       "      <th>Cifar10</th>\n",
       "      <th>1 core</th>\n",
       "      <th>4</th>\n",
       "      <td>5.570533</td>\n",
       "      <td>5.639107</td>\n",
       "      <td>5.936661</td>\n",
       "      <td>5.185222</td>\n",
       "      <td>5.719780</td>\n",
       "    </tr>\n",
       "    <tr>\n",
       "      <th>lazy</th>\n",
       "      <th>FashionMNISTCNN</th>\n",
       "      <th>1 core</th>\n",
       "      <th>4</th>\n",
       "      <td>6.088249</td>\n",
       "      <td>4.815053</td>\n",
       "      <td>5.985127</td>\n",
       "      <td>5.315520</td>\n",
       "      <td>4.797903</td>\n",
       "    </tr>\n",
       "    <tr>\n",
       "      <th>predictive</th>\n",
       "      <th>FashionMNISTCNN</th>\n",
       "      <th>1 core</th>\n",
       "      <th>1</th>\n",
       "      <td>6.565240</td>\n",
       "      <td>5.985115</td>\n",
       "      <td>5.760877</td>\n",
       "      <td>5.776456</td>\n",
       "      <td>5.238786</td>\n",
       "    </tr>\n",
       "    <tr>\n",
       "      <th>lazy</th>\n",
       "      <th>Cifar10</th>\n",
       "      <th>4 cores</th>\n",
       "      <th>4</th>\n",
       "      <td>5.081202</td>\n",
       "      <td>5.422071</td>\n",
       "      <td>4.019450</td>\n",
       "      <td>5.632217</td>\n",
       "      <td>4.991143</td>\n",
       "    </tr>\n",
       "    <tr>\n",
       "      <th>predictive</th>\n",
       "      <th>Cifar10</th>\n",
       "      <th>4 cores</th>\n",
       "      <th>1</th>\n",
       "      <td>4.201540</td>\n",
       "      <td>5.925830</td>\n",
       "      <td>5.733765</td>\n",
       "      <td>5.602797</td>\n",
       "      <td>5.198242</td>\n",
       "    </tr>\n",
       "    <tr>\n",
       "      <th>lazy</th>\n",
       "      <th>FashionMNISTCNN</th>\n",
       "      <th>4 cores</th>\n",
       "      <th>1</th>\n",
       "      <td>4.499277</td>\n",
       "      <td>6.219171</td>\n",
       "      <td>5.831698</td>\n",
       "      <td>5.676570</td>\n",
       "      <td>6.712960</td>\n",
       "    </tr>\n",
       "    <tr>\n",
       "      <th>predictive</th>\n",
       "      <th>FashionMNISTCNN</th>\n",
       "      <th>4 cores</th>\n",
       "      <th>4</th>\n",
       "      <td>4.190059</td>\n",
       "      <td>6.740783</td>\n",
       "      <td>4.308092</td>\n",
       "      <td>6.244053</td>\n",
       "      <td>4.867070</td>\n",
       "    </tr>\n",
       "  </tbody>\n",
       "</table>\n",
       "</div>"
      ],
      "text/plain": [
       "                                                       0         1         2  \\\n",
       "Approach   Model           CPU     Parallelism                                 \n",
       "lazy       Cifar10         1 core  1            4.942295  6.070852  6.071118   \n",
       "predictive Cifar10         1 core  4            5.570533  5.639107  5.936661   \n",
       "lazy       FashionMNISTCNN 1 core  4            6.088249  4.815053  5.985127   \n",
       "predictive FashionMNISTCNN 1 core  1            6.565240  5.985115  5.760877   \n",
       "lazy       Cifar10         4 cores 4            5.081202  5.422071  4.019450   \n",
       "predictive Cifar10         4 cores 1            4.201540  5.925830  5.733765   \n",
       "lazy       FashionMNISTCNN 4 cores 1            4.499277  6.219171  5.831698   \n",
       "predictive FashionMNISTCNN 4 cores 4            4.190059  6.740783  4.308092   \n",
       "\n",
       "                                                       3         4  \n",
       "Approach   Model           CPU     Parallelism                      \n",
       "lazy       Cifar10         1 core  1            5.550686  6.100229  \n",
       "predictive Cifar10         1 core  4            5.185222  5.719780  \n",
       "lazy       FashionMNISTCNN 1 core  4            5.315520  4.797903  \n",
       "predictive FashionMNISTCNN 1 core  1            5.776456  5.238786  \n",
       "lazy       Cifar10         4 cores 4            5.632217  4.991143  \n",
       "predictive Cifar10         4 cores 1            5.602797  5.198242  \n",
       "lazy       FashionMNISTCNN 4 cores 1            5.676570  6.712960  \n",
       "predictive FashionMNISTCNN 4 cores 4            6.244053  4.867070  "
      ]
     },
     "execution_count": 1,
     "metadata": {},
     "output_type": "execute_result"
    }
   ],
   "source": [
    "dim_sizes = {'runs': len(runs_levels), 'repetitions': repetitions}\n",
    "df = pd.DataFrame(\n",
    "    np.abs(1 + np.random.randn(dim_sizes['runs'], dim_sizes['repetitions'])) * 60 * 4,\n",
    "#     np.zeros((dim_sizes['runs'], dim_sizes['repetitions']))+1,\n",
    "    index=index\n",
    ")\n",
    "df = np.log(df)\n",
    "df"
   ]
  },
  {
   "cell_type": "code",
   "execution_count": 7,
   "metadata": {
    "execution": {
     "iopub.execute_input": "2021-10-25T21:01:08.751741Z",
     "iopub.status.busy": "2021-10-25T21:01:08.751277Z",
     "iopub.status.idle": "2021-10-25T21:01:08.753912Z",
     "shell.execute_reply": "2021-10-25T21:01:08.753608Z"
    }
   },
   "outputs": [
    {
     "data": {
      "text/plain": [
       "(array([0., 0., 0., 0., 0., 0., 0., 0.]),\n",
       " array([[ 1., -1., -1., -1., -1.,  1.,  1.,  1.],\n",
       "        [ 1.,  1., -1., -1.,  1., -1., -1.,  1.],\n",
       "        [ 1., -1.,  1., -1.,  1., -1.,  1., -1.],\n",
       "        [ 1.,  1.,  1., -1., -1.,  1., -1., -1.],\n",
       "        [ 1., -1., -1.,  1.,  1.,  1., -1., -1.],\n",
       "        [ 1.,  1., -1.,  1., -1., -1.,  1., -1.],\n",
       "        [ 1., -1.,  1.,  1., -1., -1., -1.,  1.],\n",
       "        [ 1.,  1.,  1.,  1.,  1.,  1.,  1.,  1.]]))"
      ]
     },
     "execution_count": 1,
     "metadata": {},
     "output_type": "execute_result"
    }
   ],
   "source": [
    "q = np.zeros((2**(4-1)))  # +1 for a spot for q0\n",
    "# now add column of 1's for the 'I' column\n",
    "sign_table = np.array([ np.concatenate((np.array([1.]), x)) for x in sign])\n",
    "q, sign_table"
   ]
  },
  {
   "cell_type": "markdown",
   "metadata": {},
   "source": [
    "See box 18.1 for the following steps\n",
    "\n",
    "$$q_j = \\frac{1}{2^{k-1}} \\sum_{i=1}^{k-1}S_{ij}\\bar{y}_i$$\n",
    "\n",
    "Where $k=4$ and $S_{ij}$ is the $(i,j)$ entry in the `sign_table`."
   ]
  },
  {
   "cell_type": "code",
   "execution_count": 8,
   "metadata": {
    "execution": {
     "iopub.execute_input": "2021-10-25T21:01:08.770781Z",
     "iopub.status.busy": "2021-10-25T21:01:08.770391Z",
     "iopub.status.idle": "2021-10-25T21:01:08.772266Z",
     "shell.execute_reply": "2021-10-25T21:01:08.772537Z"
    }
   },
   "outputs": [
    {
     "data": {
      "text/plain": [
       "array([ 5.50531999,  0.01418044,  0.07558305, -0.15042048, -0.17785526,\n",
       "       -0.02743021, -0.06785684,  0.09849078])"
      ]
     },
     "execution_count": 1,
     "metadata": {},
     "output_type": "execute_result"
    }
   ],
   "source": [
    "for j in range(len(q)):\n",
    "    q[j] = (1/(2**(4-1))) * np.sum([sign_table[i][j] * df.iloc[i].mean() for i in range(2**(4-1))])\n",
    "q"
   ]
  },
  {
   "cell_type": "markdown",
   "metadata": {},
   "source": [
    "To calculate the sum of squares for each effect (as well as SS0/q0)\n",
    "\n",
    "$$SSj = 2^{k-1}rq_j^2$$ for $j=0,1, 2,\\dots,2^{k-1}-1$"
   ]
  },
  {
   "cell_type": "code",
   "execution_count": 9,
   "metadata": {
    "execution": {
     "iopub.execute_input": "2021-10-25T21:01:08.776057Z",
     "iopub.status.busy": "2021-10-25T21:01:08.775638Z",
     "iopub.status.idle": "2021-10-25T21:01:08.778095Z",
     "shell.execute_reply": "2021-10-25T21:01:08.777777Z"
    }
   },
   "outputs": [
    {
     "data": {
      "text/plain": [
       "array([1.21234193e+03, 8.04339996e-03, 2.28511908e-01, 9.05052825e-01,\n",
       "       1.26529980e+00, 3.00966629e-02, 1.84182005e-01, 3.88017326e-01])"
      ]
     },
     "execution_count": 1,
     "metadata": {},
     "output_type": "execute_result"
    }
   ],
   "source": [
    "SS = np.zeros((2**(4-1)))\n",
    "for j in range(len(SS)):\n",
    "    SS[j] = (2**(4-1)) * repetitions * (q[j] ** 2)\n",
    "SS"
   ]
  },
  {
   "cell_type": "markdown",
   "metadata": {},
   "source": [
    "Now for $SSY$, $SST$, and $SSE$\n",
    "$$SSY=\\sum_{i=1}^{2^{k-1}}\\sum_{j=1}^{r}y_{ij}^2$$\n",
    "$$SST = SSY - SS0$$\n",
    "$$SSE = SST - \\sum_{j=1}^{2^{k-1}-1}SSj$$"
   ]
  },
  {
   "cell_type": "code",
   "execution_count": 10,
   "metadata": {
    "execution": {
     "iopub.execute_input": "2021-10-25T21:01:08.782714Z",
     "iopub.status.busy": "2021-10-25T21:01:08.782328Z",
     "iopub.status.idle": "2021-10-25T21:01:08.784733Z",
     "shell.execute_reply": "2021-10-25T21:01:08.784387Z"
    }
   },
   "outputs": [
    {
     "data": {
      "text/plain": [
       "(1230.6243935838156, 18.282467070079065, 15.273263145720748)"
      ]
     },
     "execution_count": 1,
     "metadata": {},
     "output_type": "execute_result"
    }
   ],
   "source": [
    "SSY = np.sum([np.sum([df.iloc[i, j]**2 for j in range(repetitions)]) for i in range(2**(4-1))])\n",
    "SST = SSY - SS[0]\n",
    "SSE = SST - np.sum([SS[j] for j in range(1, 2**(4-1))])\n",
    "SSY, SST, SSE"
   ]
  },
  {
   "cell_type": "markdown",
   "metadata": {},
   "source": [
    "% of `y`'s variation explained by `j`th effect\n",
    "$$(SSj/SST) \\cdot 100\\%$$"
   ]
  },
  {
   "cell_type": "code",
   "execution_count": 11,
   "metadata": {
    "execution": {
     "iopub.execute_input": "2021-10-25T21:01:08.788207Z",
     "iopub.status.busy": "2021-10-25T21:01:08.787856Z",
     "iopub.status.idle": "2021-10-25T21:01:08.789749Z",
     "shell.execute_reply": "2021-10-25T21:01:08.790037Z"
    }
   },
   "outputs": [
    {
     "data": {
      "text/plain": [
       "['0.04%', '1.25%', '4.95%', '6.92%', '0.16%', '1.01%', '2.12%']"
      ]
     },
     "execution_count": 1,
     "metadata": {},
     "output_type": "execute_result"
    }
   ],
   "source": [
    "var_expl = np.zeros((2**(4-1)))\n",
    "for j in range(2**(4-1)):\n",
    "    var_expl[j] = (SS[j] / SST) * 100\n",
    "[f\"{round(x, 2)}%\" for x in var_expl[1:]]  # just to pretty-print"
   ]
  },
  {
   "cell_type": "code",
   "execution_count": 12,
   "metadata": {
    "execution": {
     "iopub.execute_input": "2021-10-25T21:01:08.792738Z",
     "iopub.status.busy": "2021-10-25T21:01:08.792356Z",
     "iopub.status.idle": "2021-10-25T21:01:08.795004Z",
     "shell.execute_reply": "2021-10-25T21:01:08.794652Z"
    }
   },
   "outputs": [
    {
     "data": {
      "text/plain": [
       "83.54049312478645"
      ]
     },
     "execution_count": 1,
     "metadata": {},
     "output_type": "execute_result"
    }
   ],
   "source": [
    "(SSE/SST)*100"
   ]
  },
  {
   "cell_type": "markdown",
   "metadata": {},
   "source": [
    "Standard deviation of errors:\n",
    "$$s_e = \\sqrt{\\frac{SSE}{2^{k-1}(r-1)}}$$"
   ]
  },
  {
   "cell_type": "code",
   "execution_count": 13,
   "metadata": {
    "execution": {
     "iopub.execute_input": "2021-10-25T21:01:08.797891Z",
     "iopub.status.busy": "2021-10-25T21:01:08.797507Z",
     "iopub.status.idle": "2021-10-25T21:01:08.800041Z",
     "shell.execute_reply": "2021-10-25T21:01:08.799692Z"
    }
   },
   "outputs": [
    {
     "data": {
      "text/plain": [
       "0.6908613994889086"
      ]
     },
     "execution_count": 1,
     "metadata": {},
     "output_type": "execute_result"
    }
   ],
   "source": [
    "s_e = np.sqrt(SSE/(2**(4-1)*(repetitions-1)))\n",
    "s_e"
   ]
  },
  {
   "cell_type": "code",
   "execution_count": 14,
   "metadata": {
    "execution": {
     "iopub.execute_input": "2021-10-25T21:01:08.803074Z",
     "iopub.status.busy": "2021-10-25T21:01:08.802691Z",
     "iopub.status.idle": "2021-10-25T21:01:08.805208Z",
     "shell.execute_reply": "2021-10-25T21:01:08.804859Z"
    }
   },
   "outputs": [
    {
     "data": {
      "text/plain": [
       "array([0.10923478, 0.10923478, 0.10923478, 0.10923478, 0.10923478,\n",
       "       0.10923478, 0.10923478, 0.10923478])"
      ]
     },
     "execution_count": 1,
     "metadata": {},
     "output_type": "execute_result"
    }
   ],
   "source": [
    "s_qj = np.array([s_e / np.sqrt(2**(4-1)*repetitions)] * (2**(4-1)))\n",
    "s_qj"
   ]
  },
  {
   "cell_type": "markdown",
   "metadata": {},
   "source": [
    "## Confidence Intervals\n",
    "To find the confidence interval for effect $i$ the following equation is used:\n",
    "$$q_i \\pm t_{[1-\\alpha/2; 2^{k-1}(r-1)]}s_{qi}$$"
   ]
  },
  {
   "cell_type": "code",
   "execution_count": 15,
   "metadata": {
    "execution": {
     "iopub.execute_input": "2021-10-25T21:01:08.807692Z",
     "iopub.status.busy": "2021-10-25T21:01:08.807289Z",
     "iopub.status.idle": "2021-10-25T21:01:08.809262Z",
     "shell.execute_reply": "2021-10-25T21:01:08.808944Z"
    }
   },
   "outputs": [],
   "source": [
    "from scipy import stats"
   ]
  },
  {
   "cell_type": "code",
   "execution_count": 16,
   "metadata": {
    "execution": {
     "iopub.execute_input": "2021-10-25T21:01:08.814713Z",
     "iopub.status.busy": "2021-10-25T21:01:08.814337Z",
     "iopub.status.idle": "2021-10-25T21:01:08.816480Z",
     "shell.execute_reply": "2021-10-25T21:01:08.816172Z"
    }
   },
   "outputs": [
    {
     "data": {
      "text/plain": [
       "[(-0.04, 0.07),\n",
       " (0.02, 0.13),\n",
       " (-0.2, -0.1),\n",
       " (-0.22, -0.13),\n",
       " (-0.08, 0.03),\n",
       " (-0.12, -0.02),\n",
       " (0.04, 0.16)]"
      ]
     },
     "execution_count": 1,
     "metadata": {},
     "output_type": "execute_result"
    }
   ],
   "source": [
    "conf_interval = np.zeros_like((q))[1:]  # remove q0\n",
    "dof = 2**(4-1)*(repetitions-1)\n",
    "for i in range(len(conf_interval)):\n",
    "    interval = stats.t.cdf(q[i+1], dof) * s_qj[i+1]\n",
    "    conf_interval[i] = interval\n",
    "[(round(q[i+1] - interval, 2), round(q[i+1] + interval, 2)) for i, interval in enumerate(conf_interval)]"
   ]
  },
  {
   "cell_type": "markdown",
   "metadata": {},
   "source": [
    "## ANOVA"
   ]
  },
  {
   "cell_type": "markdown",
   "metadata": {},
   "source": [
    "See table 22.5"
   ]
  },
  {
   "cell_type": "code",
   "execution_count": 17,
   "metadata": {
    "execution": {
     "iopub.execute_input": "2021-10-25T21:01:08.825192Z",
     "iopub.status.busy": "2021-10-25T21:01:08.824742Z",
     "iopub.status.idle": "2021-10-25T21:01:08.828147Z",
     "shell.execute_reply": "2021-10-25T21:01:08.827752Z"
    }
   },
   "outputs": [
    {
     "name": "stdout",
     "output_type": "stream",
     "text": [
      "MSE = 0.48, dof for error = 32\n"
     ]
    },
    {
     "data": {
      "text/html": [
       "<div>\n",
       "<style scoped>\n",
       "    .dataframe tbody tr th:only-of-type {\n",
       "        vertical-align: middle;\n",
       "    }\n",
       "\n",
       "    .dataframe tbody tr th {\n",
       "        vertical-align: top;\n",
       "    }\n",
       "\n",
       "    .dataframe thead th {\n",
       "        text-align: right;\n",
       "    }\n",
       "</style>\n",
       "<table border=\"1\" class=\"dataframe\">\n",
       "  <thead>\n",
       "    <tr style=\"text-align: right;\">\n",
       "      <th></th>\n",
       "      <th>Mean Square</th>\n",
       "      <th>F Computed</th>\n",
       "      <th>p-values</th>\n",
       "    </tr>\n",
       "  </thead>\n",
       "  <tbody>\n",
       "    <tr>\n",
       "      <th>0</th>\n",
       "      <td>0.008043</td>\n",
       "      <td>0.016852</td>\n",
       "      <td>0.897524</td>\n",
       "    </tr>\n",
       "    <tr>\n",
       "      <th>1</th>\n",
       "      <td>0.228512</td>\n",
       "      <td>0.478770</td>\n",
       "      <td>0.493970</td>\n",
       "    </tr>\n",
       "    <tr>\n",
       "      <th>2</th>\n",
       "      <td>0.905053</td>\n",
       "      <td>1.896235</td>\n",
       "      <td>0.178058</td>\n",
       "    </tr>\n",
       "    <tr>\n",
       "      <th>3</th>\n",
       "      <td>1.265300</td>\n",
       "      <td>2.651011</td>\n",
       "      <td>0.113291</td>\n",
       "    </tr>\n",
       "    <tr>\n",
       "      <th>4</th>\n",
       "      <td>0.030097</td>\n",
       "      <td>0.063057</td>\n",
       "      <td>0.803333</td>\n",
       "    </tr>\n",
       "    <tr>\n",
       "      <th>5</th>\n",
       "      <td>0.184182</td>\n",
       "      <td>0.385892</td>\n",
       "      <td>0.538867</td>\n",
       "    </tr>\n",
       "    <tr>\n",
       "      <th>6</th>\n",
       "      <td>0.388017</td>\n",
       "      <td>0.812960</td>\n",
       "      <td>0.373983</td>\n",
       "    </tr>\n",
       "  </tbody>\n",
       "</table>\n",
       "</div>"
      ],
      "text/plain": [
       "   Mean Square  F Computed  p-values\n",
       "0     0.008043    0.016852  0.897524\n",
       "1     0.228512    0.478770  0.493970\n",
       "2     0.905053    1.896235  0.178058\n",
       "3     1.265300    2.651011  0.113291\n",
       "4     0.030097    0.063057  0.803333\n",
       "5     0.184182    0.385892  0.538867\n",
       "6     0.388017    0.812960  0.373983"
      ]
     },
     "execution_count": 1,
     "metadata": {},
     "output_type": "execute_result"
    }
   ],
   "source": [
    "MSE = s_e**2\n",
    "# all degrees of freedoms of factors are 1 (since all levels are just 2), so MS is the same as SS\n",
    "# just have to slice [1:] to get rid of the SS0 term\n",
    "MS = np.copy(SS[1:])\n",
    "\n",
    "F_vals = MS/MSE\n",
    "\n",
    "p_vals = np.zeros_like(F_vals)\n",
    "error_degree_of_freedom = 2**(4-1)*(repetitions-1)\n",
    "\n",
    "for i in range(len(F_vals)):   \n",
    "    p_vals[i] = 1-stats.f.cdf(F_vals[i], 1, error_degree_of_freedom)\n",
    "\n",
    "print(f\"MSE = {round(MSE, 2)}, dof for error = {error_degree_of_freedom}\")\n",
    "ANOVA = pd.DataFrame(np.stack((MS, F_vals, p_vals)).T, columns=[\"Mean Square\", \"F Computed\", \"p-values\"])\n",
    "ANOVA"
   ]
  },
  {
   "cell_type": "markdown",
   "metadata": {},
   "source": [
    "Output ANOVA table"
   ]
  },
  {
   "cell_type": "code",
   "execution_count": 18,
   "metadata": {
    "execution": {
     "iopub.execute_input": "2021-10-25T21:01:08.834578Z",
     "iopub.status.busy": "2021-10-25T21:01:08.834200Z",
     "iopub.status.idle": "2021-10-25T21:01:08.835764Z",
     "shell.execute_reply": "2021-10-25T21:01:08.836056Z"
    }
   },
   "outputs": [],
   "source": [
    "factor_interaction_labels = ['A', 'B', 'C', 'D', 'AB', 'AC', 'BC']\n",
    "rounding = 2\n",
    "with open('anova.csv', 'w', newline='') as csvfile:\n",
    "    anovawriter = csv.writer(csvfile, delimiter=',')\n",
    "    anovawriter.writerow(['Component', 'Sum of Squares', 'Percentage of Variation', 'Degrees of Freedom', 'Mean Square', 'F', 'p-value'])\n",
    "    for i in range(len(sign[0])):\n",
    "        anovawriter.writerow([f\"{factor_interaction_labels[i]}: {all_names[i]}\",\n",
    "                              round(SS[i+1], rounding),round(var_expl[i+1], rounding),\n",
    "                              1, round(MS[i], rounding),\n",
    "                              round(F_vals[i], rounding), round(p_vals[i], rounding)])\n",
    "        \n",
    "    anovawriter.writerow(['Error', round(SSE, rounding), round((SSE/SST)*100, rounding),\n",
    "                          error_degree_of_freedom, round(MSE, rounding), '', ''])\n",
    "    anovawriter.writerow(['Total', round(SST, rounding), 100, 2**(4-1)*repetitions,'','',''])"
   ]
  }
 ],
 "metadata": {
  "kernelspec": {
   "display_name": "Python 3",
   "language": "python",
   "name": "python3"
  },
  "language_info": {
   "codemirror_mode": {
    "name": "ipython",
    "version": 3
   },
   "file_extension": ".py",
   "mimetype": "text/x-python",
   "name": "python",
   "nbconvert_exporter": "python",
   "pygments_lexer": "ipython3",
   "version": "3.6.9"
  }
 },
 "nbformat": 4,
 "nbformat_minor": 4
}
