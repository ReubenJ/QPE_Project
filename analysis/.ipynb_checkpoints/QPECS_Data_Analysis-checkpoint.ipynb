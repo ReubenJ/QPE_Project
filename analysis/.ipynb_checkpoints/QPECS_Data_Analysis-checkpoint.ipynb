{
 "cells": [
  {
   "cell_type": "code",
   "execution_count": 1,
   "metadata": {},
   "outputs": [],
   "source": [
    "import pandas as pd\n",
    "import numpy as np\n",
    "from pyDOE2 import *\n",
    "import csv\n",
    "import time\n",
    "import datetime"
   ]
  },
  {
   "cell_type": "code",
   "execution_count": 2,
   "metadata": {},
   "outputs": [],
   "source": [
    "sign = fracfact('a b c abc ab ac bc')\n",
    "# print(\"Signs for a, b, c, d, ab, ac, bc\")\n",
    "# print(sign)\n",
    "# print(\"Signs for just a, b, c, and d\")\n",
    "grid = sign[:, :4]\n",
    "# grid"
   ]
  },
  {
   "cell_type": "code",
   "execution_count": 3,
   "metadata": {},
   "outputs": [],
   "source": [
    "factor_names = ['Approach', 'Model', 'Performance', 'Parallelism']\n",
    "interaction_names = [[f'{factor_names[0]} x {factor_names[1]}',  # two different interactions because the pair are confounded\n",
    "                      f'{factor_names[2]} x {factor_names[3]}'\n",
    "                     ],\n",
    "                     [f'{factor_names[0]} x {factor_names[2]}',\n",
    "                      f'{factor_names[1]} x {factor_names[3]}'\n",
    "                     ],\n",
    "                     [f'{factor_names[1]} x {factor_names[2]}',\n",
    "                      f'{factor_names[0]} x {factor_names[3]}'\n",
    "                     ]]\n",
    "all_names = factor_names + interaction_names\n",
    "factor_interaction_labels = ['A', 'B', 'C', 'D', ['AB', 'CD'], ['AC', 'BD'], ['BC', 'AD']]\n",
    "repetitions = 2\n",
    "\n",
    "# Guessing, make sure to fix these values later\n",
    "levels = {\n",
    "    factor_names[0]: {\n",
    "        'low': 'lazy',\n",
    "        'high': 'predictive',\n",
    "    },\n",
    "    factor_names[1]: {\n",
    "        'low': 'cifar',\n",
    "        'high': 'fashion',\n",
    "    },\n",
    "    factor_names[2]: {\n",
    "        'low': 'low-perform',\n",
    "        'high': 'high-perform',\n",
    "    },\n",
    "    factor_names[3]: {\n",
    "        'low': 'no-paral',\n",
    "        'high': 'paral',\n",
    "    }\n",
    "}\n",
    "\n",
    "runs_levels = [tuple([levels[fac]['low'] if r[i] == -1 else levels[fac]['high'] for i, fac in enumerate(factor_names)]) for r in grid]\n",
    "\n",
    "# runs_levels"
   ]
  },
  {
   "cell_type": "code",
   "execution_count": 4,
   "metadata": {},
   "outputs": [],
   "source": [
    "with open('sign-table.csv', 'w', newline='') as csvfile:\n",
    "    sign_table_writer = csv.writer(csvfile, delimiter=',')\n",
    "    sign_table_writer.writerow(['Run'] + [f for f in factor_names])\n",
    "    for i in range(len(grid)):\n",
    "        sign_table_writer.writerow([i+1] + [\"+\" if grid[i][j] == 1 else \"-\" for j in range(len(grid[i]))])"
   ]
  },
  {
   "cell_type": "code",
   "execution_count": 5,
   "metadata": {},
   "outputs": [],
   "source": [
    "arrays = [\n",
    "    [x[0] for x in runs_levels],\n",
    "    [x[1] for x in runs_levels],\n",
    "    [x[2] for x in runs_levels],\n",
    "    [x[3] for x in runs_levels],\n",
    "]\n",
    "tuples = list(zip(*arrays))\n",
    "index = pd.MultiIndex.from_tuples(tuples, names=factor_names)\n",
    "# index"
   ]
  },
  {
   "cell_type": "code",
   "execution_count": 6,
   "metadata": {},
   "outputs": [
    {
     "data": {
      "text/html": [
       "<div>\n",
       "<style scoped>\n",
       "    .dataframe tbody tr th:only-of-type {\n",
       "        vertical-align: middle;\n",
       "    }\n",
       "\n",
       "    .dataframe tbody tr th {\n",
       "        vertical-align: top;\n",
       "    }\n",
       "\n",
       "    .dataframe thead th {\n",
       "        text-align: right;\n",
       "    }\n",
       "</style>\n",
       "<table border=\"1\" class=\"dataframe\">\n",
       "  <thead>\n",
       "    <tr style=\"text-align: right;\">\n",
       "      <th></th>\n",
       "      <th></th>\n",
       "      <th></th>\n",
       "      <th></th>\n",
       "      <th>0</th>\n",
       "      <th>1</th>\n",
       "    </tr>\n",
       "    <tr>\n",
       "      <th>Approach</th>\n",
       "      <th>Model</th>\n",
       "      <th>Performance</th>\n",
       "      <th>Parallelism</th>\n",
       "      <th></th>\n",
       "      <th></th>\n",
       "    </tr>\n",
       "  </thead>\n",
       "  <tbody>\n",
       "    <tr>\n",
       "      <th>lazy</th>\n",
       "      <th>cifar</th>\n",
       "      <th>low-perform</th>\n",
       "      <th>no-paral</th>\n",
       "      <td>704.490920</td>\n",
       "      <td>683.337094</td>\n",
       "    </tr>\n",
       "    <tr>\n",
       "      <th>predictive</th>\n",
       "      <th>cifar</th>\n",
       "      <th>low-perform</th>\n",
       "      <th>paral</th>\n",
       "      <td>259.840318</td>\n",
       "      <td>265.190930</td>\n",
       "    </tr>\n",
       "    <tr>\n",
       "      <th>lazy</th>\n",
       "      <th>fashion</th>\n",
       "      <th>low-perform</th>\n",
       "      <th>paral</th>\n",
       "      <td>296.818196</td>\n",
       "      <td>274.589866</td>\n",
       "    </tr>\n",
       "    <tr>\n",
       "      <th>predictive</th>\n",
       "      <th>fashion</th>\n",
       "      <th>low-perform</th>\n",
       "      <th>no-paral</th>\n",
       "      <td>570.024752</td>\n",
       "      <td>506.233229</td>\n",
       "    </tr>\n",
       "    <tr>\n",
       "      <th>lazy</th>\n",
       "      <th>cifar</th>\n",
       "      <th>high-perform</th>\n",
       "      <th>paral</th>\n",
       "      <td>144.039178</td>\n",
       "      <td>143.047470</td>\n",
       "    </tr>\n",
       "    <tr>\n",
       "      <th>predictive</th>\n",
       "      <th>cifar</th>\n",
       "      <th>high-perform</th>\n",
       "      <th>no-paral</th>\n",
       "      <td>230.919316</td>\n",
       "      <td>217.241412</td>\n",
       "    </tr>\n",
       "    <tr>\n",
       "      <th>lazy</th>\n",
       "      <th>fashion</th>\n",
       "      <th>high-perform</th>\n",
       "      <th>no-paral</th>\n",
       "      <td>254.918687</td>\n",
       "      <td>234.813675</td>\n",
       "    </tr>\n",
       "    <tr>\n",
       "      <th>predictive</th>\n",
       "      <th>fashion</th>\n",
       "      <th>high-perform</th>\n",
       "      <th>paral</th>\n",
       "      <td>63.150942</td>\n",
       "      <td>75.521643</td>\n",
       "    </tr>\n",
       "  </tbody>\n",
       "</table>\n",
       "</div>"
      ],
      "text/plain": [
       "                                                      0           1\n",
       "Approach   Model   Performance  Parallelism                        \n",
       "lazy       cifar   low-perform  no-paral     704.490920  683.337094\n",
       "predictive cifar   low-perform  paral        259.840318  265.190930\n",
       "lazy       fashion low-perform  paral        296.818196  274.589866\n",
       "predictive fashion low-perform  no-paral     570.024752  506.233229\n",
       "lazy       cifar   high-perform paral        144.039178  143.047470\n",
       "predictive cifar   high-perform no-paral     230.919316  217.241412\n",
       "lazy       fashion high-perform no-paral     254.918687  234.813675\n",
       "predictive fashion high-perform paral         63.150942   75.521643"
      ]
     },
     "execution_count": 6,
     "metadata": {},
     "output_type": "execute_result"
    }
   ],
   "source": [
    "dim_sizes = {'runs': len(runs_levels), 'repetitions': repetitions}\n",
    "df = pd.DataFrame(\n",
    "#     np.abs(1 + np.random.randn(dim_sizes['runs'], dim_sizes['repetitions'])) * 60 * 4,\n",
    "    np.zeros((dim_sizes['runs'], dim_sizes['repetitions'])),\n",
    "    index=index\n",
    ")\n",
    "\n",
    "def to_seconds(string):\n",
    "    t = string.split(':')\n",
    "    return 3600 * int(t[0]) + 60 * int(t[1]) + float(t[2])\n",
    "\n",
    "with open('data.csv', 'r') as data_file:\n",
    "    datareader = csv.reader(data_file, delimiter=',')\n",
    "    for r in datareader:\n",
    "        ind = r[0].split('_')\n",
    "        df.loc[ind[0], ind[1], ind[2], ind[3]] = [to_seconds(r[1]), to_seconds(r[2])]\n",
    "\n",
    "# df = np.log(df)\n",
    "df"
   ]
  },
  {
   "cell_type": "code",
   "execution_count": 7,
   "metadata": {},
   "outputs": [
    {
     "data": {
      "text/plain": [
       "Approach    Model    Performance   Parallelism\n",
       "lazy        cifar    low-perform   no-paral       753.289793\n",
       "predictive  cifar    low-perform   paral          308.639192\n",
       "lazy        fashion  low-perform   paral          345.617070\n",
       "predictive  fashion  low-perform   no-paral       618.823625\n",
       "lazy        cifar    high-perform  paral          192.838052\n",
       "predictive  cifar    high-perform  no-paral       279.718189\n",
       "lazy        fashion  high-perform  no-paral       303.717561\n",
       "predictive  fashion  high-perform  paral          111.949816\n",
       "Name: 0, dtype: float64"
      ]
     },
     "execution_count": 7,
     "metadata": {},
     "output_type": "execute_result"
    }
   ],
   "source": [
    "abs(df[0] + (np.random.random(1)*100)-50)"
   ]
  },
  {
   "cell_type": "code",
   "execution_count": 8,
   "metadata": {},
   "outputs": [
    {
     "data": {
      "text/plain": [
       "(array([0., 0., 0., 0., 0., 0., 0., 0.]),\n",
       " array([[ 1., -1., -1., -1., -1.,  1.,  1.,  1.],\n",
       "        [ 1.,  1., -1., -1.,  1., -1., -1.,  1.],\n",
       "        [ 1., -1.,  1., -1.,  1., -1.,  1., -1.],\n",
       "        [ 1.,  1.,  1., -1., -1.,  1., -1., -1.],\n",
       "        [ 1., -1., -1.,  1.,  1.,  1., -1., -1.],\n",
       "        [ 1.,  1., -1.,  1., -1., -1.,  1., -1.],\n",
       "        [ 1., -1.,  1.,  1., -1., -1., -1.,  1.],\n",
       "        [ 1.,  1.,  1.,  1.,  1.,  1.,  1.,  1.]]))"
      ]
     },
     "execution_count": 8,
     "metadata": {},
     "output_type": "execute_result"
    }
   ],
   "source": [
    "q = np.zeros((2**(4-1)))  # +1 for a spot for q0\n",
    "# now add column of 1's for the 'I' column\n",
    "sign_table = np.array([ np.concatenate((np.array([1.]), x)) for x in sign])\n",
    "q, sign_table"
   ]
  },
  {
   "cell_type": "markdown",
   "metadata": {},
   "source": [
    "See box 18.1 for the following steps\n",
    "\n",
    "$$q_j = \\frac{1}{2^{k-1}} \\sum_{i=1}^{k-1}S_{ij}\\bar{y}_i$$\n",
    "\n",
    "Where $k=4$ and $S_{ij}$ is the $(i,j)$ entry in the `sign_table`."
   ]
  },
  {
   "cell_type": "code",
   "execution_count": 9,
   "metadata": {},
   "outputs": [
    {
     "data": {
      "text/plain": [
       "array([ 307.76110182,  -34.24578406,  -23.252228  , -137.30456128,\n",
       "       -117.48628381,   53.46955163,   10.4975718 ,    9.89692442])"
      ]
     },
     "execution_count": 9,
     "metadata": {},
     "output_type": "execute_result"
    }
   ],
   "source": [
    "for j in range(len(q)):\n",
    "    q[j] = (1/(2**(4-1))) * np.sum([sign_table[i][j] * df.iloc[i].mean() for i in range(2**(4-1))])\n",
    "q"
   ]
  },
  {
   "cell_type": "markdown",
   "metadata": {},
   "source": [
    "To calculate the sum of squares for each effect (as well as SS0/q0)\n",
    "\n",
    "$$SSj = 2^{k-1}rq_j^2$$ for $j=0,1, 2,\\dots,2^{k-1}-1$"
   ]
  },
  {
   "cell_type": "code",
   "execution_count": 10,
   "metadata": {},
   "outputs": [
    {
     "data": {
      "text/plain": [
       "array([1515470.33269475,   18764.37961161,    8650.65770784,\n",
       "        301640.68076638,  220848.43012752,   45743.88722881,\n",
       "          1763.18421891,    1567.1858077 ])"
      ]
     },
     "execution_count": 10,
     "metadata": {},
     "output_type": "execute_result"
    }
   ],
   "source": [
    "SS = np.zeros((2**(4-1)))\n",
    "for j in range(len(SS)):\n",
    "    SS[j] = (2**(4-1)) * repetitions * (q[j] ** 2)\n",
    "SS"
   ]
  },
  {
   "cell_type": "markdown",
   "metadata": {},
   "source": [
    "Now for $SSY$, $SST$, and $SSE$\n",
    "$$SSY=\\sum_{i=1}^{2^{k-1}}\\sum_{j=1}^{r}y_{ij}^2$$\n",
    "$$SST = SSY - SS0$$\n",
    "$$SSE = SST - \\sum_{j=1}^{2^{k-1}-1}SSj$$"
   ]
  },
  {
   "cell_type": "code",
   "execution_count": 11,
   "metadata": {},
   "outputs": [
    {
     "data": {
      "text/plain": [
       "(2117341.180511269, 601870.8478165178, 2892.4423477489036)"
      ]
     },
     "execution_count": 11,
     "metadata": {},
     "output_type": "execute_result"
    }
   ],
   "source": [
    "SSY = np.sum([np.sum([df.iloc[i, j]**2 for j in range(repetitions)]) for i in range(2**(4-1))])\n",
    "SST = SSY - SS[0]\n",
    "SSE = SST - np.sum([SS[j] for j in range(1, 2**(4-1))])\n",
    "SSY, SST, SSE"
   ]
  },
  {
   "cell_type": "markdown",
   "metadata": {},
   "source": [
    "% of `y`'s variation explained by `j`th effect\n",
    "$$(SSj/SST) \\cdot 100\\%$$"
   ]
  },
  {
   "cell_type": "code",
   "execution_count": 12,
   "metadata": {},
   "outputs": [
    {
     "name": "stdout",
     "output_type": "stream",
     "text": [
      "99.51942474731213\n"
     ]
    },
    {
     "data": {
      "text/plain": [
       "['Approach: 3.12%',\n",
       " 'Model: 1.44%',\n",
       " 'Performance: 50.12%',\n",
       " 'Parallelism: 36.69%',\n",
       " \"['Approach x Model', 'Performance x Parallelism']: 7.6%\",\n",
       " \"['Approach x Performance', 'Model x Parallelism']: 0.29%\",\n",
       " \"['Model x Performance', 'Approach x Parallelism']: 0.26%\"]"
      ]
     },
     "execution_count": 12,
     "metadata": {},
     "output_type": "execute_result"
    }
   ],
   "source": [
    "var_expl = np.zeros((2**(4-1)))\n",
    "for j in range(2**(4-1)):\n",
    "    var_expl[j] = (SS[j] / SST) * 100\n",
    "print(sum(var_expl[1:]))\n",
    "[f\"{all_names[i]}: {round(x, 2)}%\" for i, x in enumerate(var_expl[1:])]  # just to pretty-print"
   ]
  },
  {
   "cell_type": "code",
   "execution_count": 13,
   "metadata": {},
   "outputs": [
    {
     "name": "stdout",
     "output_type": "stream",
     "text": [
      "% var from error: 0.48%\n"
     ]
    }
   ],
   "source": [
    "# % variation from error\n",
    "var_expl_err = (SSE/SST)*100\n",
    "print(f\"% var from error: {round(var_expl_err, 2)}%\")"
   ]
  },
  {
   "cell_type": "markdown",
   "metadata": {},
   "source": [
    "Standard deviation of errors:\n",
    "$$s_e = \\sqrt{\\frac{SSE}{2^{k-1}(r-1)}}$$"
   ]
  },
  {
   "cell_type": "code",
   "execution_count": 14,
   "metadata": {},
   "outputs": [
    {
     "data": {
      "text/plain": [
       "19.01460737087708"
      ]
     },
     "execution_count": 14,
     "metadata": {},
     "output_type": "execute_result"
    }
   ],
   "source": [
    "s_e = np.sqrt(SSE/(2**(4-1)*(repetitions-1))) if repetitions > 1 else np.sqrt(SSE/(2**(4-1)))\n",
    "s_e"
   ]
  },
  {
   "cell_type": "code",
   "execution_count": 15,
   "metadata": {},
   "outputs": [
    {
     "data": {
      "text/plain": [
       "array([4.75365184, 4.75365184, 4.75365184, 4.75365184, 4.75365184,\n",
       "       4.75365184, 4.75365184, 4.75365184])"
      ]
     },
     "execution_count": 15,
     "metadata": {},
     "output_type": "execute_result"
    }
   ],
   "source": [
    "s_qj = np.array([s_e / np.sqrt(2**(4-1)*repetitions)] * (2**(4-1)))\n",
    "s_qj"
   ]
  },
  {
   "cell_type": "markdown",
   "metadata": {},
   "source": [
    "## Confidence Intervals\n",
    "To find the confidence interval for effect $i$ the following equation is used:\n",
    "$$q_i \\pm t_{[1-\\alpha/2; 2^{k-1}(r-1)]}s_{qi}$$"
   ]
  },
  {
   "cell_type": "code",
   "execution_count": 16,
   "metadata": {},
   "outputs": [],
   "source": [
    "from scipy import stats"
   ]
  },
  {
   "cell_type": "code",
   "execution_count": 17,
   "metadata": {},
   "outputs": [
    {
     "data": {
      "text/plain": [
       "['Approach: -45.21, -23.28',\n",
       " 'Model: -34.21, -12.29',\n",
       " 'Performance: -148.27, -126.34',\n",
       " 'Parallelism: -128.45, -106.52',\n",
       " \"['Approach x Model', 'Performance x Parallelism']: 42.51, 64.43\",\n",
       " \"['Approach x Performance', 'Model x Parallelism']: -0.46, 21.46\",\n",
       " \"['Model x Performance', 'Approach x Parallelism']: -1.07, 20.86\"]"
      ]
     },
     "execution_count": 17,
     "metadata": {},
     "output_type": "execute_result"
    }
   ],
   "source": [
    "conf_interval = np.zeros_like((q))[1:]  # remove q0\n",
    "conf = 0.95\n",
    "dof = 2**(4-1)*(repetitions-1)\n",
    "for i in range(len(conf_interval)):\n",
    "    interval = stats.t.ppf((1 + conf)/2, dof) * s_qj[i+1]\n",
    "    conf_interval[i] = interval\n",
    "[(f\"{all_names[i]}: {round(q[i+1] - interval, 2)}, {round(q[i+1] + interval, 2)}\") for i, interval in enumerate(conf_interval)]"
   ]
  },
  {
   "cell_type": "markdown",
   "metadata": {},
   "source": [
    "## ANOVA"
   ]
  },
  {
   "cell_type": "markdown",
   "metadata": {},
   "source": [
    "See table 22.5"
   ]
  },
  {
   "cell_type": "code",
   "execution_count": 18,
   "metadata": {},
   "outputs": [
    {
     "name": "stdout",
     "output_type": "stream",
     "text": [
      "MSE = 361.56, dof for error = 8\n"
     ]
    },
    {
     "data": {
      "text/html": [
       "<div>\n",
       "<style scoped>\n",
       "    .dataframe tbody tr th:only-of-type {\n",
       "        vertical-align: middle;\n",
       "    }\n",
       "\n",
       "    .dataframe tbody tr th {\n",
       "        vertical-align: top;\n",
       "    }\n",
       "\n",
       "    .dataframe thead th {\n",
       "        text-align: right;\n",
       "    }\n",
       "</style>\n",
       "<table border=\"1\" class=\"dataframe\">\n",
       "  <thead>\n",
       "    <tr style=\"text-align: right;\">\n",
       "      <th></th>\n",
       "      <th>Mean Square</th>\n",
       "      <th>F Computed</th>\n",
       "      <th>p-values</th>\n",
       "    </tr>\n",
       "  </thead>\n",
       "  <tbody>\n",
       "    <tr>\n",
       "      <th>0</th>\n",
       "      <td>18764.379612</td>\n",
       "      <td>51.899059</td>\n",
       "      <td>9.208102e-05</td>\n",
       "    </tr>\n",
       "    <tr>\n",
       "      <th>1</th>\n",
       "      <td>8650.657708</td>\n",
       "      <td>23.926237</td>\n",
       "      <td>1.206751e-03</td>\n",
       "    </tr>\n",
       "    <tr>\n",
       "      <th>2</th>\n",
       "      <td>301640.680766</td>\n",
       "      <td>834.286446</td>\n",
       "      <td>2.233755e-09</td>\n",
       "    </tr>\n",
       "    <tr>\n",
       "      <th>3</th>\n",
       "      <td>220848.430128</td>\n",
       "      <td>610.828922</td>\n",
       "      <td>7.677040e-09</td>\n",
       "    </tr>\n",
       "    <tr>\n",
       "      <th>4</th>\n",
       "      <td>45743.887229</td>\n",
       "      <td>126.519755</td>\n",
       "      <td>3.504899e-06</td>\n",
       "    </tr>\n",
       "    <tr>\n",
       "      <th>5</th>\n",
       "      <td>1763.184219</td>\n",
       "      <td>4.876665</td>\n",
       "      <td>5.823364e-02</td>\n",
       "    </tr>\n",
       "    <tr>\n",
       "      <th>6</th>\n",
       "      <td>1567.185808</td>\n",
       "      <td>4.334567</td>\n",
       "      <td>7.089857e-02</td>\n",
       "    </tr>\n",
       "  </tbody>\n",
       "</table>\n",
       "</div>"
      ],
      "text/plain": [
       "     Mean Square  F Computed      p-values\n",
       "0   18764.379612   51.899059  9.208102e-05\n",
       "1    8650.657708   23.926237  1.206751e-03\n",
       "2  301640.680766  834.286446  2.233755e-09\n",
       "3  220848.430128  610.828922  7.677040e-09\n",
       "4   45743.887229  126.519755  3.504899e-06\n",
       "5    1763.184219    4.876665  5.823364e-02\n",
       "6    1567.185808    4.334567  7.089857e-02"
      ]
     },
     "execution_count": 18,
     "metadata": {},
     "output_type": "execute_result"
    }
   ],
   "source": [
    "MSE = s_e**2\n",
    "# all degrees of freedoms of factors are 1 (since all levels are just 2), so MS is the same as SS\n",
    "# just have to slice [1:] to get rid of the SS0 term\n",
    "MS = np.copy(SS[1:])\n",
    "\n",
    "F_vals = MS/MSE\n",
    "\n",
    "p_vals = np.zeros_like(F_vals)\n",
    "error_degree_of_freedom = 2**(4-1)*(repetitions-1)\n",
    "\n",
    "for i in range(len(F_vals)):   \n",
    "    p_vals[i] = 1-stats.f.cdf(F_vals[i], 1, error_degree_of_freedom)\n",
    "\n",
    "print(f\"MSE = {round(MSE, 2)}, dof for error = {error_degree_of_freedom}\")\n",
    "ANOVA = pd.DataFrame(np.stack((MS, F_vals, p_vals)).T, columns=[\"Mean Square\", \"F Computed\", \"p-values\"])\n",
    "ANOVA"
   ]
  },
  {
   "cell_type": "markdown",
   "metadata": {},
   "source": [
    "Output ANOVA table"
   ]
  },
  {
   "cell_type": "code",
   "execution_count": 19,
   "metadata": {},
   "outputs": [],
   "source": [
    "rounding = 2\n",
    "with open('anova.csv', 'w', newline='') as csvfile:\n",
    "    anovawriter = csv.writer(csvfile, delimiter=',')\n",
    "    anovawriter.writerow(['comp', 'ss', 'pvar', 'df', 'ms', 'f', 'pval', 'confint'])\n",
    "    \n",
    "    for i in range(len(sign[0])):\n",
    "#         row_color = \"\\\\rowcolor{gray!8}\\n\" if i % 2 == 0 else \"\"\n",
    "        row_color = \"\\\\rowcolor{gray!8}\" if i % 2 == 0 else \"\"\n",
    "        \n",
    "        p = f\"{p_vals[i]:.2e}\"\n",
    "        if p_vals[i] > 10**(-2):\n",
    "            p = round(p_vals[i], rounding+1)\n",
    "        if type(factor_interaction_labels[i]) == list:\n",
    "            prepend = \"\\multirow{ -2}{*}{\"\n",
    "            append = \"}\"\n",
    "            anovawriter.writerow([row_color + f\"{factor_interaction_labels[i][0]}: {all_names[i][0]}\",\n",
    "#                                   f'Counfounded with {factor_interaction_labels[i][0]}', '', '', '', '', '', '', ''\n",
    "                                  '', '', '', '', '', '', '', ''\n",
    "                                 ])\n",
    "            anovawriter.writerow([row_color + f\"{factor_interaction_labels[i][1]}: {all_names[i][1]}\",\n",
    "                                  prepend + str(round(SS[i+1], rounding)) + append,\n",
    "                                  prepend + f\"{round(var_expl[i+1], rounding)}\\%\" + append,\n",
    "                                  prepend + str(1) + append,\n",
    "                                  prepend + str(round(MS[i], rounding)) + append,\n",
    "                                  prepend + str(round(F_vals[i], rounding)) + append,\n",
    "                                  prepend + str(p) + append,\n",
    "                                  prepend + f\"{round(q[i+1] - interval, 2)}, {round(q[i+1] + interval, 2)}\" + append\n",
    "                                 ])\n",
    "            \n",
    "        else:\n",
    "            anovawriter.writerow([row_color + f\"{factor_interaction_labels[i]}: {all_names[i]}\",\n",
    "                                  round(SS[i+1], rounding),f\"{round(var_expl[i+1], rounding)}\\%\",\n",
    "                                  1, round(MS[i], rounding),\n",
    "                                  round(F_vals[i], rounding), p,\n",
    "                                  f\"{round(q[i+1] - interval, 2)}, {round(q[i+1] + interval, 2)}\"\n",
    "                                 ])\n",
    "        \n",
    "    anovawriter.writerow(['Error', round(SSE, rounding), f\"{round((SSE/SST)*100, rounding)}\\%\",\n",
    "                          error_degree_of_freedom, round(MSE, rounding), '', '', ''])\n",
    "    anovawriter.writerow(['\\\\rowcolor{gray!8}Total', round(SST, rounding), \"100\\%\", 2**(4-1)*repetitions,'','','', ''])"
   ]
  }
 ],
 "metadata": {
  "kernelspec": {
   "display_name": "Python 3",
   "language": "python",
   "name": "python3"
  },
  "language_info": {
   "codemirror_mode": {
    "name": "ipython",
    "version": 3
   },
   "file_extension": ".py",
   "mimetype": "text/x-python",
   "name": "python",
   "nbconvert_exporter": "python",
   "pygments_lexer": "ipython3",
   "version": "3.6.9"
  }
 },
 "nbformat": 4,
 "nbformat_minor": 4
}
